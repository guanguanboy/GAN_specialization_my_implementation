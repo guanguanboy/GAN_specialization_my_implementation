{
 "cells": [
  {
   "cell_type": "code",
   "execution_count": 11,
   "metadata": {},
   "outputs": [],
   "source": [
    "import torch\n",
    "from torch import nn\n",
    "from tqdm.auto import tqdm\n",
    "from torchvision import transforms\n",
    "from torchvision.datasets import MNIST # Training dataset\n",
    "from torchvision.utils import make_grid\n",
    "from torch.utils.data import DataLoader\n",
    "import matplotlib.pyplot as plt\n",
    "torch.manual_seed(0) # Set for testing purposes, please do not change!\n",
    "import os\n",
    "os.environ[\"CUDA_VISIBLE_DEVICES\"] = \"2\" \n",
    "def show_tensor_images(image_tensor, num_images=25, size=(1, 28, 28)):\n",
    "    '''\n",
    "    Function for visualizing images: Given a tensor of images, number of images, and\n",
    "    size per image, plots and prints the images in a uniform grid.\n",
    "    '''\n",
    "    #image_unflat = image_tensor.detach().cpu().view(-1, *size)\n",
    "    image_unflat = image_tensor.cpu().view(-1, *size)\n",
    "    print(f\"image_unflat.shape={image_unflat.shape}\")\n",
    "    image_grid = make_grid(image_unflat[:num_images], nrow=5)\n",
    "    print(f\"image_grid.shape={image_grid.shape}\")\n",
    "    \n",
    "    print(f\"image_grid_permute_shape={image_grid.permute(1, 2, 0).shape}\")\n",
    "    print(f\"image_grid_permute_squeeze_shape={image_grid.permute(1, 2, 0).squeeze().shape}\")\n",
    "\n",
    "    plt.imshow(image_grid.permute(1, 2, 0).squeeze())\n",
    "    plt.show()"
   ]
  },
  {
   "cell_type": "code",
   "execution_count": 12,
   "metadata": {},
   "outputs": [
    {
     "name": "stdout",
     "output_type": "stream",
     "text": [
      "image_unflat.shape=torch.Size([128, 1, 28, 28])\n",
      "image_grid.shape=torch.Size([3, 152, 152])\n",
      "image_grid_permute_shape=torch.Size([152, 152, 3])\n",
      "image_grid_permute_squeeze_shape=torch.Size([152, 152, 3])\n"
     ]
    },
    {
     "data": {
      "image/png": "[encoded data removed]",
      "text/plain": [
       "<Figure size 432x288 with 1 Axes>"
      ]
     },
     "metadata": {
      "needs_background": "light"
     },
     "output_type": "display_data"
    }
   ],
   "source": [
    "image_tensor = torch.zeros((128, 784), device=\"cuda\")\n",
    "show_tensor_images(image_tensor)"
   ]
  },
  {
   "cell_type": "code",
   "execution_count": null,
   "metadata": {},
   "outputs": [],
   "source": []
  }
 ],
 "metadata": {
  "kernelspec": {
   "display_name": "Python 3",
   "language": "python",
   "name": "python3"
  },
  "language_info": {
   "codemirror_mode": {
    "name": "ipython",
    "version": 3
   },
   "file_extension": ".py",
   "mimetype": "text/x-python",
   "name": "python",
   "nbconvert_exporter": "python",
   "pygments_lexer": "ipython3",
   "version": "3.7.7"
  }
 },
 "nbformat": 4,
 "nbformat_minor": 4
}
